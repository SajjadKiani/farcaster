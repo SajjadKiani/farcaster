{
 "cells": [
  {
   "cell_type": "code",
   "execution_count": 2,
   "metadata": {},
   "outputs": [
    {
     "name": "stderr",
     "output_type": "stream",
     "text": [
      "/tmp/ipykernel_56790/2709075278.py:4: DeprecationWarning: \n",
      "Pyarrow will become a required dependency of pandas in the next major release of pandas (pandas 3.0),\n",
      "(to allow more performant data types, such as the Arrow string type, and better interoperability with other libraries)\n",
      "but was not found to be installed on your system.\n",
      "If this would cause problems for you,\n",
      "please provide us feedback at https://github.com/pandas-dev/pandas/issues/54466\n",
      "        \n",
      "  import pandas as pd\n"
     ]
    },
    {
     "data": {
      "text/plain": [
       "True"
      ]
     },
     "execution_count": 2,
     "metadata": {},
     "output_type": "execute_result"
    }
   ],
   "source": [
    "import os\n",
    "from farcaster import Warpcast\n",
    "from dotenv import load_dotenv # can be installed with `pip install python-dotenv`\n",
    "import pandas as pd\n",
    "load_dotenv()"
   ]
  },
  {
   "cell_type": "code",
   "execution_count": 3,
   "metadata": {},
   "outputs": [],
   "source": [
    "client = Warpcast(mnemonic=os.environ.get(\"MNEMONIC\"))\n",
    "data = pd.read_csv('data.csv')\n",
    "data.head()"
   ]
  },
  {
   "cell_type": "markdown",
   "metadata": {},
   "source": [
    "## Follow users"
   ]
  },
  {
   "cell_type": "code",
   "execution_count": 43,
   "metadata": {},
   "outputs": [
    {
     "name": "stdout",
     "output_type": "stream",
     "text": [
      "ok 269064\n",
      "ok 326608\n",
      "ok 307067\n",
      "ok 278743\n",
      "ok 329125\n",
      "ok 342503\n",
      "329134\n",
      "ok 343113\n",
      "ok 269973\n",
      "ok 278158\n",
      "ok 17184\n",
      "ok 342503\n",
      "ok 19250\n",
      "ok 298825\n",
      "ok 15478\n",
      "ok 335072\n",
      "ok 304536\n",
      "323388\n",
      "ok 303580\n",
      "ok 270122\n",
      "ok 273254\n",
      "ok 298826\n",
      "ok 15949\n",
      "ok 331817\n",
      "ok 14600\n",
      "ok 338624\n",
      "ok 329174\n",
      "ok 325098\n",
      "ok 241112\n",
      "ok 310705\n",
      "ok 270017\n",
      "ok 295427\n",
      "ok 338645\n",
      "14555\n",
      "ok 347118\n",
      "ok 14568\n",
      "ok 295057\n",
      "ok 339141\n",
      "ok 298243\n",
      "ok 291307\n",
      "ok 329229\n",
      "ok 14366\n",
      "ok 293706\n",
      "ok 315225\n",
      "ok 347715\n",
      "ok 291771\n",
      "ok 324143\n",
      "ok 326728\n",
      "ok 296027\n",
      "ok 325284\n",
      "333821\n",
      "ok 251966\n",
      "ok 268545\n",
      "ok 277719\n",
      "ok 323261\n",
      "ok 338402\n",
      "ok 16793\n",
      "ok 325744\n",
      "ok 17399\n",
      "ok 293751\n",
      "ok 345291\n",
      "ok 316962\n",
      "ok 292896\n",
      "ok 261255\n",
      "ok 262679\n",
      "ok 298789\n",
      "ok 218867\n",
      "329007\n",
      "279194\n",
      "ok 318836\n",
      "ok 295266\n",
      "ok 293005\n",
      "ok 283169\n",
      "ok 295706\n",
      "ok 319721\n",
      "ok 307152\n",
      "ok 270262\n",
      "ok 272688\n",
      "ok 336269\n"
     ]
    }
   ],
   "source": [
    "for fid in data['fid']:\n",
    "    try:\n",
    "        response = client.follow_user(fid=fid)\n",
    "    except:\n",
    "        pass"
   ]
  },
  {
   "cell_type": "markdown",
   "metadata": {},
   "source": [
    "## Like"
   ]
  },
  {
   "cell_type": "code",
   "execution_count": 7,
   "metadata": {},
   "outputs": [
    {
     "name": "stdout",
     "output_type": "stream",
     "text": [
      "ok 0x65d2895c17adba20195bbdfcbf8c5eeb47a01e19\n",
      "ok 0xc0d4143c55180c9ae061f93596459bb184835a18\n",
      "ok 0x206f6038c4badd49812898955af29b49495e7978\n",
      "ok 0x656a0a0a614cc0925df2af127819bf39df00cbb8\n",
      "ok 0x23171581e91edcb5e15701c568fb30718ddd7684\n",
      "ok 0x91d326ad24baf86a3ed6b4c6bdc97cc26fd6d948\n",
      "ok 0xc2618af9567189c0f14d6fed1bbbb240f6863776\n",
      "ok 0x9d59a4317f3aa10aba2b6dce5a8fab6f71208fe1\n",
      "ok 0xa2a0fcdc9159ebc8ee568df7bdd562045a14f614\n",
      "ok 0x1871aac918c4075fa71bfc3fb3265b01245a8fb2\n",
      "ok 0x18336a07a3c78d207a8d158611a6034b28c9e81c\n",
      "ok 0x91d326ad24baf86a3ed6b4c6bdc97cc26fd6d948\n",
      "ok 0xde1767920fe776d59b8829bbe3c8480770e93008\n",
      "ok 0x7875906bce5b01021699a8534628d05ee23ba57c\n",
      "ok 0xa314c2a0803a78416edc2ef0fdcee3ab75de8d65\n",
      "ok 0x7a8c01d538328a58bfda69e26bcebc0eeeb75378\n",
      "ok 0x63a246bb35b06c699f1fd8083970565f6c700d5d\n",
      "ok 0x114b2a355954708ea7f89bbaf97e3f70c51af1d2\n",
      "ok 0x63a246bb35b06c699f1fd8083970565f6c700d5d\n",
      "ok 0xeb13f7dcaaf83290929f1f771dda9cd40a404770\n",
      "ok 0x3f0a5b1c6e8b011e58644e4d20aef1154e78fecb\n",
      "ok 0xdff09dba800ed2d452694b042e731d172e6288ae\n",
      "ok 0xdd4eb394761887fc41ac6776a1b64eb820507dc7\n",
      "ok 0x580298c4e038e0c1b52bb891cf0b1f237cfdec15\n",
      "opps! 0xf5f85430720d0206b986dd319d051a72b651774a\n",
      "ok 0xb283a8b9b93695a7dfb45ee895a590a65cfc7e09\n",
      "ok 0x6797e29186f8778fdcd8439609304ac9a12299e7\n",
      "ok 0xa0373e58d2f94e817c322d4366a6a71e870fd7d2\n",
      "ok 0xaec4a8df3c8cf95b1a222a8253acf61e2c8e4381\n",
      "ok 0x96e534ba1160687f9cea51c58f7211ddfb004e24\n",
      "ok 0x73f2872e1f56eacd9a98582e8e36d74340130e99\n",
      "ok 0xa9c7fbb1d6594dd8228e63da4b6c7f5deef615d5\n",
      "ok 0x9d59a4317f3aa10aba2b6dce5a8fab6f71208fe1\n",
      "ok 0xe1dcdef9d561ebbd47457badedf374815571d82e\n",
      "ok 0xdd4eb394761887fc41ac6776a1b64eb820507dc7\n",
      "opps! 0x923b22deb942305e36c58a404e302b76fd932a6c\n",
      "ok 0xf0ebf40ff2f2ae099a9e6e608c8d9272b2f1fc30\n",
      "opps! 0xd8802b7387d9355a1c01da0d615f39ad74b299ae\n",
      "ok 0x028122f7afcfd09158d893fdbc327051acd12f9e\n",
      "ok 0x4e8b9aac0277474193bc05c1144809d8fc12a299\n",
      "ok 0x318da3756a181d889c1254ba3f3161851818b54e\n",
      "ok 0x57fbd087569fb7271ea5f9a078712a5afc4d561d\n",
      "ok 0x228ac989b845b6c9d257343fe099966984848026\n",
      "ok 0x395529f8e328864c5f8274009e8cf461f534c576\n",
      "ok 0xf2fef974604cd39b12b3429d246f34975b94fa56\n",
      "ok 0xf90d3815b3421ccd64c150d0ca438e291afc0ebe\n",
      "ok 0x88d33ce614057890324a530a788c7ca3065b223d\n",
      "ok 0x206f6038c4badd49812898955af29b49495e7978\n",
      "ok 0x33e26f0419d9d229ed425d13268f8733076d4d2c\n",
      "ok 0x99eeaa560612be85b6e594a756c489f4c34da7bc\n",
      "ok 0xeb02e67cd14f905be8a2f6956a3e5ab506dfcfb2\n",
      "ok 0xbdcbd391874826ad99594a2dbda0d7d4489bf559\n",
      "ok 0x3936356d5015fae2c2e251bf1b9b43d7b94288d4\n",
      "ok 0x5783578f1929bd2658c2078b8a20b38c9b6aa3ea\n",
      "ok 0x420ed8a491100e84eceba90c98624ba25d81778d\n",
      "ok 0xdd4eb394761887fc41ac6776a1b64eb820507dc7\n",
      "ok 0x06f5a02b2ff6deb0f65bbaf7c62eb6ae85892319\n",
      "ok 0x3f0a5b1c6e8b011e58644e4d20aef1154e78fecb\n",
      "ok 0x848d598d1c75f28a84ba35cce285cc874b1130fc\n",
      "ok 0xb36cd2f860cdcc0b4c99b824a1dac26bbb333816\n",
      "ok 0x491dcb2f2e7d3509968008284ec0f91673eb345f\n",
      "ok 0x46c959c2457e4a8a63a73b6ea5a53ac5c4bbdc65\n",
      "ok 0x3744e9d53f0fa334dc920a62af4083e3abc5f107\n",
      "ok 0x6fc97bc981bd0e7e2335d82f23f7782afa37965f\n",
      "ok 0x005d303098b2ffabaab44e871763789877e5a40b\n",
      "ok 0xda5d1b1adb73e38ca3146ca48183f242cb07cbde\n",
      "ok 0x8a8f9901aa9e6bac601efffa061b1ded950f0b66\n",
      "opps! 0xd08fe570b15953bb14ebed784ab3efcea82c6981\n",
      "ok 0x20f7bdaac9943c8daac5e6349f53254c08d4cba4\n",
      "ok 0x0a49c15cbb6a83127b451e73b597da81ed8624b8\n",
      "ok 0x9f265fa77de249432dc6538d9b63325794e5257f\n",
      "ok 0x8df249988018e17f1de392fb82cd40ce1db8f1b4\n",
      "ok 0xa0b0f1e9db2d02264391b35080c637b0a1e5e311\n",
      "ok 0x5f3e79aba57036d6f2ecd2bcd13e64f6518a93b9\n",
      "ok 0xdaa27856c765fc22d205cacf1fe5a59811515445\n",
      "ok 0x82de69edc4c1213239daa83151e49a682a040ce4\n",
      "ok 0xb7f47d4ec906f978e851f67f993faf7c688eca7c\n",
      "ok 0xa2f5b73075a6306ebde1b74bd9b8254e0855a2f5\n",
      "ok 0x60b122b2fad7a6da97edccfd8b94bfdca78f64a2\n"
     ]
    }
   ],
   "source": [
    "# like first cast of followers\n",
    "\n",
    "# get first cast hash and like it\n",
    "for fid in data['fid']:\n",
    "    response = client.get_casts(fid=fid)\n",
    "    cast_hash = response.casts[0].hash\n",
    "    data['first_cast_hash'] = cast_hash\n",
    "\n",
    "    try:\n",
    "        response = client.like_cast(cast_hash=cast_hash)\n",
    "    except:\n",
    "        pass"
   ]
  }
 ],
 "metadata": {
  "kernelspec": {
   "display_name": "venv",
   "language": "python",
   "name": "python3"
  },
  "language_info": {
   "codemirror_mode": {
    "name": "ipython",
    "version": 3
   },
   "file_extension": ".py",
   "mimetype": "text/x-python",
   "name": "python",
   "nbconvert_exporter": "python",
   "pygments_lexer": "ipython3",
   "version": "3.10.12"
  }
 },
 "nbformat": 4,
 "nbformat_minor": 2
}
